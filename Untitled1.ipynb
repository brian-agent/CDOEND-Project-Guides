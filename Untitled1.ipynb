{
  "nbformat": 4,
  "nbformat_minor": 0,
  "metadata": {
    "colab": {
      "provenance": [],
      "authorship_tag": "ABX9TyO/+aRzEQKsNznJNmN9I6Zj",
      "include_colab_link": true
    },
    "kernelspec": {
      "name": "python3",
      "display_name": "Python 3"
    },
    "language_info": {
      "name": "python"
    }
  },
  "cells": [
    {
      "cell_type": "markdown",
      "metadata": {
        "id": "view-in-github",
        "colab_type": "text"
      },
      "source": [
        "<a href=\"https://colab.research.google.com/github/brian-agent/CDOEND-Project-Guides/blob/master/Untitled1.ipynb\" target=\"_parent\"><img src=\"https://colab.research.google.com/assets/colab-badge.svg\" alt=\"Open In Colab\"/></a>"
      ]
    },
    {
      "cell_type": "code",
      "execution_count": 28,
      "metadata": {
        "id": "T_NwTs2-X9eW"
      },
      "outputs": [],
      "source": [
        "import torch.nn as nn\n",
        "import torch.nn.functional as F\n",
        "from torchvision import datasets, transforms\n",
        "import torch\n",
        "\n",
        "class MnistCNN(nn.Module):\n",
        "  def __init__(self):\n",
        "    super().__init__()\n",
        "\n",
        "    self.conv_1=nn.Conv2d(1,32,3)\n",
        "    self.pool= nn.MaxPool2d(2,2)\n",
        "    self.conv_2= nn.Conv2d(32,64,3)\n",
        "    self.flatten= nn.Flatten()\n",
        "    self.fc1= nn.Linear(64*5*5,200)\n",
        "    self.fc2= nn.Linear(200,10)\n",
        "\n",
        "  def forward(self,x):\n",
        "    x= self.pool(F.relu(self.conv_1(x)))\n",
        "    x= self.pool(F.relu(self.conv_2(x)))\n",
        "    x= self.flatten(x)\n",
        "    x= self.fc1(x)\n",
        "    x= F.relu(x)\n",
        "    x= self.fc2(x)\n",
        "    return x\n"
      ]
    },
    {
      "cell_type": "code",
      "source": [
        "train_set=datasets.MNIST(root='./data',train=True,download=True,transform=transforms.ToTensor())\n",
        "train_loader=torch.utils.data.DataLoader(train_set,batch_size=64,shuffle=True)\n",
        "\n",
        "test_set=datasets.MNIST(root='./data',train=False,download=True,transform=transforms.ToTensor())\n",
        "test_loader=torch.utils.data.DataLoader(test_set,batch_size=64,shuffle=True)\n"
      ],
      "metadata": {
        "id": "1JjU8fYqffx4"
      },
      "execution_count": 29,
      "outputs": []
    },
    {
      "cell_type": "code",
      "source": [
        "model = MnistCNN()\n",
        "import torch.optim as optim\n",
        "optimizer= optim.SGD(model.parameters(),lr=0.01)\n",
        "criterion=nn.CrossEntropyLoss()\n",
        "def train_loop(dataloader,model,loss_fn,optimizer,epochs):\n",
        "  size=len(dataloader.dataset)\n",
        "  for i in range(epochs):\n",
        "\n",
        "    for batch, (X,y) in enumerate(dataloader):\n",
        "      outputs= model(X)\n",
        "      loss=loss_fn(outputs,y)\n",
        "      optimizer.zero_grad()\n",
        "      loss.backward()\n",
        "      optimizer.step()\n",
        "      if batch % 100 == 0:\n",
        "        loss,current=loss.item(),batch*len(X)\n",
        "        print(f\"loss: {loss:>7f} [{current:>5d}/{size:>5d}]\")\n",
        "\n",
        "print(\"Done !\")\n",
        "\n"
      ],
      "metadata": {
        "colab": {
          "base_uri": "https://localhost:8080/"
        },
        "id": "Zd0kn6f0gBRc",
        "outputId": "9006c177-8146-4419-c179-4160229c93ca"
      },
      "execution_count": 30,
      "outputs": [
        {
          "output_type": "stream",
          "name": "stdout",
          "text": [
            "Done !\n"
          ]
        }
      ]
    },
    {
      "cell_type": "code",
      "source": [
        "def test_loop(dataloader,model,loss_fn):\n",
        "  size=len(dataloader.dataset)\n",
        "  num_batches=len(dataloader)\n",
        "  test_loss,correct=0,0\n",
        "\n",
        "  with torch.no_grad():\n",
        "    for X,y in dataloader:\n",
        "      outputs=model(X)\n",
        "      test_loss+=loss_fn(outputs,y).item()\n",
        "      correct+=(outputs.argmax(1)==y).type(torch.float).sum().item()\n",
        "\n",
        "  test_loss/=num_batches\n",
        "  correct/=size\n",
        "  print(f\"Test Error: \\n Accuracy: {(100*correct):>0.1f}%, Avg loss: {test_loss:>8f} \\n\")\n",
        "  return test_loss,correct\n"
      ],
      "metadata": {
        "id": "NdOQXVsThzle"
      },
      "execution_count": 31,
      "outputs": []
    },
    {
      "cell_type": "code",
      "source": [
        "train_loop(train_loader,model,criterion,optimizer,3)\n",
        "test_loop(test_loader,model,criterion)\n"
      ],
      "metadata": {
        "colab": {
          "base_uri": "https://localhost:8080/"
        },
        "id": "bIxLei5UiCYG",
        "outputId": "572feb7a-940a-461a-c046-2577ef316d2f"
      },
      "execution_count": 32,
      "outputs": [
        {
          "output_type": "stream",
          "name": "stdout",
          "text": [
            "loss: 2.301402 [    0/60000]\n",
            "loss: 2.245040 [ 6400/60000]\n",
            "loss: 2.088731 [12800/60000]\n",
            "loss: 1.310609 [19200/60000]\n",
            "loss: 0.754567 [25600/60000]\n",
            "loss: 0.533090 [32000/60000]\n",
            "loss: 0.719993 [38400/60000]\n",
            "loss: 0.480571 [44800/60000]\n",
            "loss: 0.378065 [51200/60000]\n",
            "loss: 0.247758 [57600/60000]\n",
            "loss: 0.644162 [    0/60000]\n",
            "loss: 0.428910 [ 6400/60000]\n",
            "loss: 0.305914 [12800/60000]\n",
            "loss: 0.439175 [19200/60000]\n",
            "loss: 0.243349 [25600/60000]\n",
            "loss: 0.177691 [32000/60000]\n",
            "loss: 0.324956 [38400/60000]\n",
            "loss: 0.175442 [44800/60000]\n",
            "loss: 0.256750 [51200/60000]\n",
            "loss: 0.239548 [57600/60000]\n",
            "loss: 0.097135 [    0/60000]\n",
            "loss: 0.196926 [ 6400/60000]\n",
            "loss: 0.254545 [12800/60000]\n",
            "loss: 0.242705 [19200/60000]\n",
            "loss: 0.258371 [25600/60000]\n",
            "loss: 0.218967 [32000/60000]\n",
            "loss: 0.238185 [38400/60000]\n",
            "loss: 0.316100 [44800/60000]\n",
            "loss: 0.147050 [51200/60000]\n",
            "loss: 0.243924 [57600/60000]\n",
            "Test Error: \n",
            " Accuracy: 95.3%, Avg loss: 0.155817 \n",
            "\n"
          ]
        },
        {
          "output_type": "execute_result",
          "data": {
            "text/plain": [
              "(0.15581690828511668, 0.9529)"
            ]
          },
          "metadata": {},
          "execution_count": 32
        }
      ]
    },
    {
      "cell_type": "code",
      "source": [],
      "metadata": {
        "id": "80CjPHmUinM8"
      },
      "execution_count": null,
      "outputs": []
    }
  ]
}