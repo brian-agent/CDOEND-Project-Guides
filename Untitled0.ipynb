{
  "nbformat": 4,
  "nbformat_minor": 0,
  "metadata": {
    "colab": {
      "provenance": [],
      "authorship_tag": "ABX9TyOliMofvCv20L339Ej05SA4",
      "include_colab_link": true
    },
    "kernelspec": {
      "name": "python3",
      "display_name": "Python 3"
    },
    "language_info": {
      "name": "python"
    }
  },
  "cells": [
    {
      "cell_type": "markdown",
      "metadata": {
        "id": "view-in-github",
        "colab_type": "text"
      },
      "source": [
        "<a href=\"https://colab.research.google.com/github/brian-agent/CDOEND-Project-Guides/blob/master/Untitled0.ipynb\" target=\"_parent\"><img src=\"https://colab.research.google.com/assets/colab-badge.svg\" alt=\"Open In Colab\"/></a>"
      ]
    },
    {
      "cell_type": "code",
      "execution_count": null,
      "metadata": {
        "id": "8Cyqt42BNW5h"
      },
      "outputs": [],
      "source": []
    },
    {
      "cell_type": "code",
      "source": [
        "import os\n",
        "import torch\n",
        "from torch import nn\n",
        "from torch.utils.data import DataLoader\n",
        "from torchvision import datasets, transforms\n",
        "class NeuralNet(nn.Module):\n",
        "  def __init__(self):\n",
        "    super().__init__()\n",
        "    self.Flatten= nn.Flatten()\n",
        "    self.Linear_relu_stack= nn.Sequential(\n",
        "        nn.Linear(28*28, 512),\n",
        "        nn.ReLU(),\n",
        "        nn.Linear(512, 512),\n",
        "        nn.ReLU(),\n",
        "        nn.Linear(512, 10),\n",
        "    )\n",
        "\n",
        "  def forward(self,x):\n",
        "    x= self.Flatten(x)\n",
        "    output= self.Linear_relu_stack(x)\n",
        "    return output\n",
        "\n",
        "\n"
      ],
      "metadata": {
        "id": "1tOaCYsjNyqt"
      },
      "execution_count": 8,
      "outputs": []
    },
    {
      "cell_type": "code",
      "source": [
        "mnist_testset= datasets.MNIST(\n",
        "    root=\"data\",\n",
        "    train=False,\n",
        "    download=True,\n",
        "    transform=transforms.ToTensor()\n",
        ")\n",
        "mnist_trainset= datasets.MNIST(\n",
        "    root=\"data\",\n",
        "    train=True,\n",
        "    download=True,\n",
        "    transform=transforms.ToTensor()\n",
        ")\n",
        "trainloader= DataLoader(mnist_trainset, batch_size=64, shuffle=True)\n",
        "testloader= DataLoader(mnist_testset, batch_size=64, shuffle=True)"
      ],
      "metadata": {
        "id": "Pm4H1E1ASM9E"
      },
      "execution_count": 9,
      "outputs": []
    },
    {
      "cell_type": "code",
      "source": [
        "model= NeuralNet()\n",
        "batch_size= 64\n",
        "epochs= 5\n",
        "loss_fn= nn.CrossEntropyLoss()\n",
        "optimizer= torch.optim.SGD(model.parameters(), lr=1e-3)\n",
        "def train_loop(dataloader, model, loss_fn, optimizer):\n",
        "  size= len(dataloader.dataset)\n",
        "  for batch, (X, y) in enumerate(dataloader):\n",
        "    pred= model(X)\n",
        "    loss= loss_fn(pred, y)\n",
        "    optimizer.zero_grad()\n",
        "    loss.backward()\n",
        "    optimizer.step()\n",
        "    if batch % 100 == 0:\n",
        "            loss, current = loss.item(), batch * batch_size + len(X)\n",
        "            print(f\"loss: {loss:>7f}  [{current:>5d}/{size:>5d}]\")\n"
      ],
      "metadata": {
        "id": "TZH4WkNTS_Md"
      },
      "execution_count": 12,
      "outputs": []
    },
    {
      "cell_type": "code",
      "source": [
        "def test_loop(dataloader, model, loss_fn):\n",
        "  size= len(dataloader.dataset)\n",
        "  num_batches= len(dataloader)\n",
        "  test_loss, correct= 0, 0\n",
        "  with torch.no_grad():\n",
        "    for X, y in dataloader:\n",
        "      pred= model(X)\n",
        "      test_loss += loss_fn(pred, y).item()\n",
        "      correct += (pred.argmax(1) == y).type(torch.float).sum().item()\n",
        "  return test_loss/num_batches, correct/size\n"
      ],
      "metadata": {
        "id": "aA28YVAEVx04"
      },
      "execution_count": 13,
      "outputs": []
    },
    {
      "cell_type": "code",
      "source": [
        "for t in range(epochs):\n",
        "    print(f\"Epoch {t+1}\\n-------------------------------\")\n",
        "    train_loop(trainloader, model, loss_fn, optimizer)\n",
        "    print(test_loop(testloader, model, loss_fn))\n",
        "\n",
        "print(\"Done!\")"
      ],
      "metadata": {
        "colab": {
          "base_uri": "https://localhost:8080/"
        },
        "id": "ffpLwTxtWPhj",
        "outputId": "79365357-5225-441d-ef80-0be21ebcc324"
      },
      "execution_count": 16,
      "outputs": [
        {
          "output_type": "stream",
          "name": "stdout",
          "text": [
            "Epoch 1\n",
            "-------------------------------\n",
            "loss: 1.464446  [   64/60000]\n",
            "loss: 1.580813  [ 6464/60000]\n",
            "loss: 1.459147  [12864/60000]\n",
            "loss: 1.448920  [19264/60000]\n",
            "loss: 1.381346  [25664/60000]\n",
            "loss: 1.408418  [32064/60000]\n",
            "loss: 1.445139  [38464/60000]\n",
            "loss: 1.391569  [44864/60000]\n",
            "loss: 1.344838  [51264/60000]\n",
            "loss: 1.255414  [57664/60000]\n",
            "(1.2245872688900894, 0.7655)\n",
            "Epoch 2\n",
            "-------------------------------\n",
            "loss: 1.309841  [   64/60000]\n",
            "loss: 1.320190  [ 6464/60000]\n",
            "loss: 1.155882  [12864/60000]\n",
            "loss: 1.147675  [19264/60000]\n",
            "loss: 1.172472  [25664/60000]\n",
            "loss: 1.009666  [32064/60000]\n",
            "loss: 1.137607  [38464/60000]\n",
            "loss: 1.085285  [44864/60000]\n",
            "loss: 1.105961  [51264/60000]\n",
            "loss: 0.976337  [57664/60000]\n",
            "(0.9779976150792116, 0.7933)\n",
            "Epoch 3\n",
            "-------------------------------\n",
            "loss: 0.947740  [   64/60000]\n",
            "loss: 1.002875  [ 6464/60000]\n",
            "loss: 1.103848  [12864/60000]\n",
            "loss: 0.945034  [19264/60000]\n",
            "loss: 0.909173  [25664/60000]\n",
            "loss: 0.906627  [32064/60000]\n",
            "loss: 1.004563  [38464/60000]\n",
            "loss: 0.808705  [44864/60000]\n",
            "loss: 0.910849  [51264/60000]\n",
            "loss: 0.794017  [57664/60000]\n",
            "(0.8154695519975795, 0.8188)\n",
            "Epoch 4\n",
            "-------------------------------\n",
            "loss: 0.864919  [   64/60000]\n",
            "loss: 0.784587  [ 6464/60000]\n",
            "loss: 0.700259  [12864/60000]\n",
            "loss: 1.010826  [19264/60000]\n",
            "loss: 0.794713  [25664/60000]\n",
            "loss: 0.781471  [32064/60000]\n",
            "loss: 0.772927  [38464/60000]\n",
            "loss: 0.862034  [44864/60000]\n",
            "loss: 0.806283  [51264/60000]\n",
            "loss: 0.614402  [57664/60000]\n",
            "(0.7082225752484267, 0.8308)\n",
            "Epoch 5\n",
            "-------------------------------\n",
            "loss: 0.780969  [   64/60000]\n",
            "loss: 0.700019  [ 6464/60000]\n",
            "loss: 0.812728  [12864/60000]\n",
            "loss: 0.591484  [19264/60000]\n",
            "loss: 0.564000  [25664/60000]\n",
            "loss: 0.964533  [32064/60000]\n",
            "loss: 0.689630  [38464/60000]\n",
            "loss: 0.644317  [44864/60000]\n",
            "loss: 0.637123  [51264/60000]\n",
            "loss: 0.895222  [57664/60000]\n",
            "(0.6312202985878963, 0.8429)\n",
            "Done!\n"
          ]
        }
      ]
    }
  ]
}